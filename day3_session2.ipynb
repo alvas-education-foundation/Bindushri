{
  "nbformat": 4,
  "nbformat_minor": 0,
  "metadata": {
    "colab": {
      "name": "day3 session2.ipynb",
      "provenance": [],
      "authorship_tag": "ABX9TyPsOVXb1Vqg6+eI0i2vas/+",
      "include_colab_link": true
    },
    "kernelspec": {
      "name": "python3",
      "display_name": "Python 3"
    }
  },
  "cells": [
    {
      "cell_type": "markdown",
      "metadata": {
        "id": "view-in-github",
        "colab_type": "text"
      },
      "source": [
        "<a href=\"https://colab.research.google.com/github/alvas-education-foundation/Bindushri/blob/master/day3_session2.ipynb\" target=\"_parent\"><img src=\"https://colab.research.google.com/assets/colab-badge.svg\" alt=\"Open In Colab\"/></a>"
      ]
    },
    {
      "cell_type": "code",
      "metadata": {
        "id": "uBh-OHN2yY_F",
        "colab_type": "code",
        "colab": {}
      },
      "source": [
        "#Finding the factorial of a number"
      ],
      "execution_count": null,
      "outputs": []
    },
    {
      "cell_type": "code",
      "metadata": {
        "id": "KNKMtgfFyeBy",
        "colab_type": "code",
        "colab": {
          "base_uri": "https://localhost:8080/",
          "height": 67
        },
        "outputId": "2e8eb6c4-9a8f-498f-ca84-d856665f9adc"
      },
      "source": [
        "#Python Program to find the factorial of a number using loop. \n",
        "n=int(input(\"Enter number:\"))\n",
        "fact=1\n",
        "while(n>0):\n",
        "    fact=fact*n\n",
        "    n=n-1\n",
        "print(\"Factorial of the number is: \")\n",
        "print(fact)"
      ],
      "execution_count": 1,
      "outputs": [
        {
          "output_type": "stream",
          "text": [
            "Enter number:4\n",
            "Factorial of the number is: \n",
            "24\n"
          ],
          "name": "stdout"
        }
      ]
    },
    {
      "cell_type": "markdown",
      "metadata": {
        "id": "KpkXhKf1zRtb",
        "colab_type": "text"
      },
      "source": [
        " #Program for multiples of 2 of a list without list comprehension"
      ]
    },
    {
      "cell_type": "code",
      "metadata": {
        "id": "a0jiAZKBzXEq",
        "colab_type": "code",
        "colab": {
          "base_uri": "https://localhost:8080/",
          "height": 34
        },
        "outputId": "1c64b3c9-698c-448f-fc2c-785d0df62068"
      },
      "source": [
        "x=[1, 2, 3, 4, 5, 6]\n",
        "result = []\n",
        "for idx in range(len(x)):\n",
        "  result.append(x[idx] * 2)\n",
        "print(result)"
      ],
      "execution_count": 2,
      "outputs": [
        {
          "output_type": "stream",
          "text": [
            "[2, 4, 6, 8, 10, 12]\n"
          ],
          "name": "stdout"
        }
      ]
    },
    {
      "cell_type": "markdown",
      "metadata": {
        "id": "ZNsgURCQzdtS",
        "colab_type": "text"
      },
      "source": [
        " #Program to create a list of tuples with the rst element as the number and the second\n",
        "element as the square of the number."
      ]
    },
    {
      "cell_type": "code",
      "metadata": {
        "id": "RNcBfBqfzpTC",
        "colab_type": "code",
        "colab": {
          "base_uri": "https://localhost:8080/",
          "height": 67
        },
        "outputId": "b9e01169-41ee-4113-89d5-af3c6ff32d52"
      },
      "source": [
        "l_range=int(input(\"Enter the lower range:\"))\n",
        "u_range=int(input(\"Enter the upper range:\"))\n",
        "a=[(x,x**2) for x in range(l_range,u_range+1)]\n",
        "print(a)"
      ],
      "execution_count": 3,
      "outputs": [
        {
          "output_type": "stream",
          "text": [
            "Enter the lower range:3\n",
            "Enter the upper range:5\n",
            "[(3, 9), (4, 16), (5, 25)]\n"
          ],
          "name": "stdout"
        }
      ]
    }
  ]
}